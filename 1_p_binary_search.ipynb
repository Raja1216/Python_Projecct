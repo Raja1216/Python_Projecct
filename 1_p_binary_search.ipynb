{
 "cells": [
  {
   "cell_type": "markdown",
   "id": "dbfc05a9-723f-4b76-86dd-77de118d22f8",
   "metadata": {},
   "source": [
    "### systematic strategy we'll apply for solving problems:\n",
    "\n",
    "1. State the problem clearly. Identify the input & output formats.\n",
    "2. Come up with some example inputs & outputs. Try to cover all edge cases.\n",
    "3. Come up with a correct solution for the problem. State it in plain English.\n",
    "4. Implement the solution and test it using example inputs. Fix bugs, if any.\n",
    "5. Analyze the algorithm's complexity and identify inefficiencies, if any.\n",
    "6. Apply the right technique to overcome the inefficiency. Repeat steps 3 to 6."
   ]
  },
  {
   "cell_type": "markdown",
   "id": "f5164ab8-677c-42e4-8557-5420f0241a00",
   "metadata": {},
   "source": [
    "#### QUESTION 1: Alice has some cards with numbers written on them. She arranges the cards in decreasing order, and lays them out face down in a sequence on a table. She challenges Bob to pick out the card containing a given number by turning over as few cards as possible. Write a function to help Bob locate the card."
   ]
  },
  {
   "cell_type": "code",
   "execution_count": 40,
   "id": "06aefaf7-98fe-4800-bd63-e3aa1b44d330",
   "metadata": {},
   "outputs": [],
   "source": [
    "tests = [{'input': {'cards': [13, 11, 10, 7, 4, 3, 1, 0], 'query': 7}, 'output': 3},\n",
    " {'input': {'cards': [13, 11, 10, 7, 4, 3, 1, 0], 'query': 1}, 'output': 6},\n",
    " {'input': {'cards': [4, 2, 1, -1], 'query': 4}, 'output': 0},\n",
    " {'input': {'cards': [3, -1, -9, -127], 'query': -127}, 'output': 3},\n",
    " {'input': {'cards': [6], 'query': 6}, 'output': 0},\n",
    " {'input': {'cards': [9, 7, 5, 2, -9], 'query': 4}, 'output': -1},\n",
    " {'input': {'cards': [], 'query': 7}, 'output': -1},\n",
    " {'input': {'cards': [8, 8, 6, 6, 6, 6, 6, 3, 2, 2, 2, 0, 0, 0], 'query': 3},\n",
    "  'output': 7},\n",
    " {'input': {'cards': [8, 8, 6, 6, 6, 6, 6, 6, 3, 2, 2, 2, 0, 0, 0],\n",
    "   'query': 6},\n",
    "  'output': 2}]"
   ]
  },
  {
   "cell_type": "code",
   "execution_count": 26,
   "id": "83b4a47d-d511-4f03-8be5-134b64a7c3c0",
   "metadata": {},
   "outputs": [
    {
     "name": "stdin",
     "output_type": "stream",
     "text": [
      "Enter the cards numbers with space :  65\n",
      "Enter the card number which you want 69\n"
     ]
    },
    {
     "name": "stdout",
     "output_type": "stream",
     "text": [
      "69 not present on that table\n"
     ]
    }
   ],
   "source": [
    "def locate_card():\n",
    "    cards = [int(item) for item in input(\"Enter the cards numbers with space : \").split()]\n",
    "    query = int(input(\"Enter the card number which you want\"))\n",
    "    if len(cards) <1:\n",
    "        return \"There are no cards present\"\n",
    "    elif (len(cards) == 1 and cards[0]== query):\n",
    "        return (f\"{query} found in the position of {0}\")\n",
    "    elif (len(cards) == 1 and cards[0] != query):\n",
    "        return (f\"{query} not present on that table\")\n",
    "    else:\n",
    "        for i in range(len(cards)):\n",
    "            if cards[i] == query:\n",
    "                return (f\"{query} found in the position of {i}\")\n",
    "    return (f\"{query} not present on that table\")\n",
    "ans = locate_card();\n",
    "print(ans)"
   ]
  },
  {
   "cell_type": "code",
   "execution_count": 27,
   "id": "09dcb1b2-65f5-4d3c-bd4e-10b7e4945da5",
   "metadata": {},
   "outputs": [
    {
     "name": "stdin",
     "output_type": "stream",
     "text": [
      "Enter the cards numbers with space :  \n",
      "Enter the card number which you want 4\n"
     ]
    },
    {
     "name": "stdout",
     "output_type": "stream",
     "text": [
      "-1\n"
     ]
    }
   ],
   "source": [
    "def locate_card():\n",
    "    cards = [int(item) for item in input(\"Enter the cards numbers with space : \").split()]\n",
    "    query = int(input(\"Enter the card number which you want\"))\n",
    "    i = 0\n",
    "    while i < len(cards):\n",
    "        if cards[i] == query:\n",
    "            return i\n",
    "        i +=1\n",
    "    return -1    \n",
    "ans = locate_card();\n",
    "print(ans)"
   ]
  },
  {
   "cell_type": "code",
   "execution_count": null,
   "id": "871e2d92-8d11-408d-89a4-5ec4e8caf2cd",
   "metadata": {},
   "outputs": [],
   "source": []
  }
 ],
 "metadata": {
  "kernelspec": {
   "display_name": "Python 3 (ipykernel)",
   "language": "python",
   "name": "python3"
  },
  "language_info": {
   "codemirror_mode": {
    "name": "ipython",
    "version": 3
   },
   "file_extension": ".py",
   "mimetype": "text/x-python",
   "name": "python",
   "nbconvert_exporter": "python",
   "pygments_lexer": "ipython3",
   "version": "3.11.4"
  }
 },
 "nbformat": 4,
 "nbformat_minor": 5
}
