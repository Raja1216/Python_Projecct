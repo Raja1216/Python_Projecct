{
 "cells": [
  {
   "cell_type": "markdown",
   "id": "fb8576a5-516e-4609-a307-bd4ec10c3e29",
   "metadata": {},
   "source": [
    "#### Create a class Employee with attributes empid, name, salary and also difine methods to access properties of Employee"
   ]
  },
  {
   "cell_type": "code",
   "execution_count": 5,
   "id": "a66219c4-b27b-445f-b8c4-8e9ad29091d4",
   "metadata": {},
   "outputs": [
    {
     "data": {
      "text/plain": [
       "102"
      ]
     },
     "execution_count": 5,
     "metadata": {},
     "output_type": "execute_result"
    }
   ],
   "source": [
    "class Employee:\n",
    "    def __init__(self,empId=None,name=None,salary=None):\n",
    "        self.empId = empId\n",
    "        self.name = name\n",
    "        self.salary = salary\n",
    "    def setEmpId(self, empId):\n",
    "        self.empId = empId\n",
    "    def setName(self, name):\n",
    "        self.name = name\n",
    "    def setSalary(self, salary):\n",
    "        self.salary = salary\n",
    "    def getEmpId(self):\n",
    "        return self.empId\n",
    "    def getName(self):\n",
    "        return self.name\n",
    "    def getSalary(self):\n",
    "        return self.salary\n",
    "\n",
    "obj = Employee()\n",
    "obj2 = Employee(102,\"SP\",40000)\n",
    "obj.setEmpId(10)\n",
    "obj2.getEmpId()        "
   ]
  }
 ],
 "metadata": {
  "kernelspec": {
   "display_name": "Python 3 (ipykernel)",
   "language": "python",
   "name": "python3"
  },
  "language_info": {
   "codemirror_mode": {
    "name": "ipython",
    "version": 3
   },
   "file_extension": ".py",
   "mimetype": "text/x-python",
   "name": "python",
   "nbconvert_exporter": "python",
   "pygments_lexer": "ipython3",
   "version": "3.11.4"
  }
 },
 "nbformat": 4,
 "nbformat_minor": 5
}
