{
 "cells": [
  {
   "cell_type": "markdown",
   "id": "dbfc05a9-723f-4b76-86dd-77de118d22f8",
   "metadata": {},
   "source": [
    "### systematic strategy we'll apply for solving problems:\n",
    "\n",
    "1. State the problem clearly. Identify the input & output formats.\n",
    "2. Come up with some example inputs & outputs. Try to cover all edge cases.\n",
    "3. Come up with a correct solution for the problem. State it in plain English.\n",
    "4. Implement the solution and test it using example inputs. Fix bugs, if any.\n",
    "5. Analyze the algorithm's complexity and identify inefficiencies, if any.\n",
    "6. Apply the right technique to overcome the inefficiency. Repeat steps 3 to 6."
   ]
  },
  {
   "cell_type": "markdown",
   "id": "f5164ab8-677c-42e4-8557-5420f0241a00",
   "metadata": {},
   "source": [
    "#### QUESTION 1: Alice has some cards with numbers written on them. She arranges the cards in decreasing order, and lays them out face down in a sequence on a table. She challenges Bob to pick out the card containing a given number by turning over as few cards as possible. Write a function to help Bob locate the card."
   ]
  },
  {
   "cell_type": "markdown",
   "id": "22df5006-11b7-4f1c-8dcd-45a634efd623",
   "metadata": {},
   "source": []
  },
  {
   "cell_type": "code",
   "execution_count": 25,
   "id": "83b4a47d-d511-4f03-8be5-134b64a7c3c0",
   "metadata": {},
   "outputs": [
    {
     "ename": "TypeError",
     "evalue": "locate_card() missing 2 required positional arguments: 'cards' and 'query'",
     "output_type": "error",
     "traceback": [
      "\u001b[1;31m---------------------------------------------------------------------------\u001b[0m",
      "\u001b[1;31mTypeError\u001b[0m                                 Traceback (most recent call last)",
      "Cell \u001b[1;32mIn[25], line 15\u001b[0m\n\u001b[0;32m     13\u001b[0m                 \u001b[38;5;28;01mreturn\u001b[39;00m (\u001b[38;5;124mf\u001b[39m\u001b[38;5;124m\"\u001b[39m\u001b[38;5;132;01m{\u001b[39;00mquery\u001b[38;5;132;01m}\u001b[39;00m\u001b[38;5;124m found in the position of \u001b[39m\u001b[38;5;132;01m{\u001b[39;00mi\u001b[38;5;132;01m}\u001b[39;00m\u001b[38;5;124m\"\u001b[39m)\n\u001b[0;32m     14\u001b[0m     \u001b[38;5;28;01mreturn\u001b[39;00m (\u001b[38;5;124mf\u001b[39m\u001b[38;5;124m\"\u001b[39m\u001b[38;5;132;01m{\u001b[39;00mquery\u001b[38;5;132;01m}\u001b[39;00m\u001b[38;5;124m not present on that table\u001b[39m\u001b[38;5;124m\"\u001b[39m)\n\u001b[1;32m---> 15\u001b[0m ans \u001b[38;5;241m=\u001b[39m \u001b[43mlocate_card\u001b[49m\u001b[43m(\u001b[49m\u001b[43m)\u001b[49m;\n\u001b[0;32m     16\u001b[0m \u001b[38;5;28mprint\u001b[39m(ans)\n",
      "\u001b[1;31mTypeError\u001b[0m: locate_card() missing 2 required positional arguments: 'cards' and 'query'"
     ]
    }
   ],
   "source": [
    "def locate_card():\n",
    "    cards = [int(item) for item in input(\"Enter the cards numbers with space : \").split()]\n",
    "    query = int(input(\"Enter the card number which you want\"))\n",
    "    if len(cards) <1:\n",
    "        return \"There are no cards present\"\n",
    "    elif (len(cards) == 1 and cards[0]== query):\n",
    "        return (f\"{query} found in the position of {0}\")\n",
    "    elif (len(cards) == 1 and cards[0] != query):\n",
    "        return (f\"{query} not present on that table\")\n",
    "    else:\n",
    "        for i in range(len(cards)):\n",
    "            if cards[i] == query:\n",
    "                return (f\"{query} found in the position of {i}\")\n",
    "    return (f\"{query} not present on that table\")\n",
    "ans = locate_card();\n",
    "print(ans)"
   ]
  }
 ],
 "metadata": {
  "kernelspec": {
   "display_name": "Python 3 (ipykernel)",
   "language": "python",
   "name": "python3"
  },
  "language_info": {
   "codemirror_mode": {
    "name": "ipython",
    "version": 3
   },
   "file_extension": ".py",
   "mimetype": "text/x-python",
   "name": "python",
   "nbconvert_exporter": "python",
   "pygments_lexer": "ipython3",
   "version": "3.11.4"
  }
 },
 "nbformat": 4,
 "nbformat_minor": 5
}
