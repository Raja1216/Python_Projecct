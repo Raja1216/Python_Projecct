{
 "cells": [
  {
   "cell_type": "markdown",
   "id": "535d73a6-f6ef-4506-ba79-0cfa68c15442",
   "metadata": {},
   "source": [
    "### Given a array with some integer type values. write a python script to sort array values?"
   ]
  },
  {
   "cell_type": "code",
   "execution_count": 48,
   "id": "4a1fda30-15a2-4d04-9dbe-bdb15dc47bda",
   "metadata": {},
   "outputs": [
    {
     "name": "stdout",
     "output_type": "stream",
     "text": [
      "[1, 2, 3, 4, 5, 6, 7, 8]\n"
     ]
    }
   ],
   "source": [
    "a1 = [1,3,4,7,5,8,6,2]\n",
    "print(sorted(a1))"
   ]
  },
  {
   "cell_type": "markdown",
   "id": "01a9910e-77d9-4623-8c2e-ca09e221855c",
   "metadata": {},
   "source": [
    "### Given a list of heterogenouselements. write a python script to remove all the non int values from a list."
   ]
  },
  {
   "cell_type": "code",
   "execution_count": 49,
   "id": "c7a5b5e1-6e5f-4518-b32f-078ac6bbb82b",
   "metadata": {},
   "outputs": [
    {
     "name": "stdout",
     "output_type": "stream",
     "text": [
      "[1, 3, 5]\n"
     ]
    }
   ],
   "source": [
    "l1 = [1,3,'a','b',0.5,5,'j','d','k']\n",
    "l2 = [x for x in l1 if isinstance(x, int)]\n",
    "print(l2)        "
   ]
  },
  {
   "cell_type": "markdown",
   "id": "c10023ba-0e28-4b5c-b664-4cd081aa790f",
   "metadata": {},
   "source": [
    "### Write a python script to calculate average of elements of a list"
   ]
  },
  {
   "cell_type": "code",
   "execution_count": 50,
   "id": "f641ba43-390c-48e1-9594-bbbf86b334a3",
   "metadata": {},
   "outputs": [
    {
     "name": "stdout",
     "output_type": "stream",
     "text": [
      "5\n"
     ]
    }
   ],
   "source": [
    "li1 = [ 2,3,7,5,8]\n",
    "avg= sum(li1)//len(li1)\n",
    "print(avg)"
   ]
  },
  {
   "cell_type": "markdown",
   "id": "92eac800-6825-468a-8ff5-79a8ee5b4810",
   "metadata": {},
   "source": [
    "### Write a python script to create a list of first N prime number"
   ]
  },
  {
   "cell_type": "code",
   "execution_count": 62,
   "id": "1bbb1791-b51b-4dc7-ad82-354d737e0d2a",
   "metadata": {},
   "outputs": [
    {
     "name": "stdout",
     "output_type": "stream",
     "text": [
      "[5, 7, 9, 10, 11, 13, 14, 15, 16, 17]\n"
     ]
    }
   ],
   "source": [
    "n = 10\n",
    "p = []\n",
    "c = 2\n",
    "while len(p)<n:\n",
    "    tf = False\n",
    "    for i in range(2, int(c**0.5) + 1):\n",
    "        if c%i != 0:\n",
    "            tf=True\n",
    "    if tf == True:\n",
    "         p.append(c)\n",
    "    c += 1\n",
    "print(p) "
   ]
  }
 ],
 "metadata": {
  "kernelspec": {
   "display_name": "Python 3 (ipykernel)",
   "language": "python",
   "name": "python3"
  },
  "language_info": {
   "codemirror_mode": {
    "name": "ipython",
    "version": 3
   },
   "file_extension": ".py",
   "mimetype": "text/x-python",
   "name": "python",
   "nbconvert_exporter": "python",
   "pygments_lexer": "ipython3",
   "version": "3.11.4"
  }
 },
 "nbformat": 4,
 "nbformat_minor": 5
}
